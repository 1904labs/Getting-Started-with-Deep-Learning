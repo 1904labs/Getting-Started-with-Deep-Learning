{
 "cells": [
  {
   "cell_type": "markdown",
   "metadata": {},
   "source": [
    "# Intro to Keras"
   ]
  },
  {
   "cell_type": "markdown",
   "metadata": {},
   "source": [
    "![keras](resources/keras.png)"
   ]
  },
  {
   "cell_type": "markdown",
   "metadata": {},
   "source": [
    "Main homepage: https://keras.io/  \n",
    "Github: https://github.com/keras-team/keras  \n",
    "Examples: https://github.com/keras-team/keras/tree/master/examples  \n",
    "Docker: https://github.com/keras-team/keras/tree/master/docker  "
   ]
  },
  {
   "cell_type": "markdown",
   "metadata": {},
   "source": [
    "#### Imports"
   ]
  },
  {
   "cell_type": "code",
   "execution_count": null,
   "metadata": {
    "ExecuteTime": {
     "end_time": "2019-08-08T20:01:36.280491Z",
     "start_time": "2019-08-08T20:01:34.004702Z"
    }
   },
   "outputs": [],
   "source": [
    "# Example based on https://github.com/keras-team/keras/blob/master/examples/mnist_cnn.py\n",
    "\n",
    "from __future__ import print_function\n",
    "\n",
    "import random\n",
    "\n",
    "import numpy as np\n",
    "import matplotlib.pyplot as plt\n",
    "from matplotlib import cm\n",
    "\n",
    "import keras\n",
    "from keras.datasets import mnist\n",
    "from keras.models import Sequential, load_model\n",
    "from keras.layers import Dense, Dropout, Flatten\n",
    "from keras.layers import Conv2D, MaxPooling2D\n",
    "from keras import backend as K\n",
    "\n",
    "import warnings\n",
    "warnings.filterwarnings('ignore')"
   ]
  },
  {
   "cell_type": "markdown",
   "metadata": {},
   "source": [
    "# Intro to MNIST dataset"
   ]
  },
  {
   "cell_type": "markdown",
   "metadata": {},
   "source": [
    "#### Set variables, load dataset, split into train and test sets"
   ]
  },
  {
   "cell_type": "code",
   "execution_count": 2,
   "metadata": {
    "ExecuteTime": {
     "end_time": "2019-08-08T20:01:49.996453Z",
     "start_time": "2019-08-08T20:01:36.282192Z"
    }
   },
   "outputs": [
    {
     "name": "stdout",
     "output_type": "stream",
     "text": [
      "Downloading data from https://s3.amazonaws.com/img-datasets/mnist.npz\n",
      "11493376/11490434 [==============================] - 13s 1us/step\n",
      "x_train shape: (60000, 28, 28, 1)\n",
      "60000 train samples\n",
      "10000 test samples\n"
     ]
    }
   ],
   "source": [
    "# input image dimensions\n",
    "img_rows, img_cols = 28, 28\n",
    "\n",
    "# set the number of output classes\n",
    "num_classes = 10\n",
    "\n",
    "# the data, split between train and test sets\n",
    "(x_train, y_train), (x_test, y_test) = mnist.load_data()\n",
    "\n",
    "if K.image_data_format() == 'channels_first':\n",
    "    x_train = x_train.reshape(x_train.shape[0], 1, img_rows, img_cols)\n",
    "    x_test = x_test.reshape(x_test.shape[0], 1, img_rows, img_cols)\n",
    "    input_shape = (1, img_rows, img_cols)\n",
    "else:\n",
    "    x_train = x_train.reshape(x_train.shape[0], img_rows, img_cols, 1)\n",
    "    x_test = x_test.reshape(x_test.shape[0], img_rows, img_cols, 1)\n",
    "    input_shape = (img_rows, img_cols, 1)\n",
    "\n",
    "# convert integers to floats\n",
    "x_train = x_train.astype('float32')\n",
    "x_test = x_test.astype('float32')\n",
    "\n",
    "# normalize to a 0-1 scale\n",
    "x_train /= 255\n",
    "x_test /= 255\n",
    "\n",
    "print('x_train shape:', x_train.shape)\n",
    "print(x_train.shape[0], 'train samples')\n",
    "print(x_test.shape[0], 'test samples')\n",
    "\n",
    "# convert class vectors to binary class matrices\n",
    "y_train = keras.utils.to_categorical(y_train, num_classes)\n",
    "y_test = keras.utils.to_categorical(y_test, num_classes)\n"
   ]
  },
  {
   "cell_type": "markdown",
   "metadata": {},
   "source": [
    "#### Examine dataset"
   ]
  },
  {
   "cell_type": "code",
   "execution_count": 3,
   "metadata": {
    "ExecuteTime": {
     "end_time": "2019-08-08T20:01:51.158242Z",
     "start_time": "2019-08-08T20:01:49.998639Z"
    }
   },
   "outputs": [
    {
     "data": {
      "image/png": "[encoded data removed]",
      "text/plain": [
       "<Figure size 1080x648 with 15 Axes>"
      ]
     },
     "metadata": {
      "needs_background": "light"
     },
     "output_type": "display_data"
    }
   ],
   "source": [
    "samples = random.sample(list(x_train), 15)\n",
    "\n",
    "fig, ax = plt.subplots(3, 5, figsize=(15,9))\n",
    "\n",
    "for i, sample in enumerate(samples):\n",
    "    plt.subplot(3, 5, i+1)\n",
    "    plt.imshow(sample.reshape(img_rows, img_cols), cmap=cm.gray)\n",
    "    plt.axis('off')\n",
    "\n",
    "plt.tight_layout()"
   ]
  },
  {
   "cell_type": "markdown",
   "metadata": {},
   "source": [
    "# Building a model with Keras"
   ]
  },
  {
   "cell_type": "markdown",
   "metadata": {},
   "source": [
    "#### Build and compile model"
   ]
  },
  {
   "cell_type": "code",
   "execution_count": 4,
   "metadata": {
    "ExecuteTime": {
     "end_time": "2019-08-08T20:01:51.346018Z",
     "start_time": "2019-08-08T20:01:51.160477Z"
    }
   },
   "outputs": [
    {
     "name": "stderr",
     "output_type": "stream",
     "text": [
      "WARNING: Logging before flag parsing goes to stderr.\n",
      "W0808 15:01:51.164957 140736984724416 deprecation_wrapper.py:119] From /Users/mpitlyk/miniconda3/envs/dlkeras/lib/python3.6/site-packages/keras/backend/tensorflow_backend.py:74: The name tf.get_default_graph is deprecated. Please use tf.compat.v1.get_default_graph instead.\n",
      "\n",
      "W0808 15:01:51.186892 140736984724416 deprecation_wrapper.py:119] From /Users/mpitlyk/miniconda3/envs/dlkeras/lib/python3.6/site-packages/keras/backend/tensorflow_backend.py:517: The name tf.placeholder is deprecated. Please use tf.compat.v1.placeholder instead.\n",
      "\n",
      "W0808 15:01:51.197024 140736984724416 deprecation_wrapper.py:119] From /Users/mpitlyk/miniconda3/envs/dlkeras/lib/python3.6/site-packages/keras/backend/tensorflow_backend.py:4138: The name tf.random_uniform is deprecated. Please use tf.random.uniform instead.\n",
      "\n",
      "W0808 15:01:51.230827 140736984724416 deprecation_wrapper.py:119] From /Users/mpitlyk/miniconda3/envs/dlkeras/lib/python3.6/site-packages/keras/backend/tensorflow_backend.py:3976: The name tf.nn.max_pool is deprecated. Please use tf.nn.max_pool2d instead.\n",
      "\n",
      "W0808 15:01:51.233247 140736984724416 deprecation_wrapper.py:119] From /Users/mpitlyk/miniconda3/envs/dlkeras/lib/python3.6/site-packages/keras/backend/tensorflow_backend.py:133: The name tf.placeholder_with_default is deprecated. Please use tf.compat.v1.placeholder_with_default instead.\n",
      "\n",
      "W0808 15:01:51.241759 140736984724416 deprecation.py:506] From /Users/mpitlyk/miniconda3/envs/dlkeras/lib/python3.6/site-packages/keras/backend/tensorflow_backend.py:3445: calling dropout (from tensorflow.python.ops.nn_ops) with keep_prob is deprecated and will be removed in a future version.\n",
      "Instructions for updating:\n",
      "Please use `rate` instead of `keep_prob`. Rate should be set to `rate = 1 - keep_prob`.\n",
      "W0808 15:01:51.319705 140736984724416 deprecation_wrapper.py:119] From /Users/mpitlyk/miniconda3/envs/dlkeras/lib/python3.6/site-packages/keras/optimizers.py:790: The name tf.train.Optimizer is deprecated. Please use tf.compat.v1.train.Optimizer instead.\n",
      "\n",
      "W0808 15:01:51.327872 140736984724416 deprecation_wrapper.py:119] From /Users/mpitlyk/miniconda3/envs/dlkeras/lib/python3.6/site-packages/keras/backend/tensorflow_backend.py:3295: The name tf.log is deprecated. Please use tf.math.log instead.\n",
      "\n"
     ]
    }
   ],
   "source": [
    "# Initialize model\n",
    "model = Sequential()\n",
    "\n",
    "# Input later is implicit\n",
    "\n",
    "# Add hidden layers\n",
    "model.add(Conv2D(32, kernel_size=(3, 3),\n",
    "                 activation='relu',\n",
    "                 input_shape=input_shape))\n",
    "model.add(Conv2D(64, (3, 3), activation='relu'))\n",
    "model.add(MaxPooling2D(pool_size=(2, 2)))\n",
    "model.add(Dropout(0.25))\n",
    "model.add(Flatten())\n",
    "model.add(Dense(128, activation='relu'))\n",
    "model.add(Dropout(0.5))\n",
    "\n",
    "# Output layer\n",
    "model.add(Dense(num_classes, activation='softmax'))\n",
    "\n",
    "# Compile model with loss funtion, optimizer, and metrics\n",
    "model.compile(loss=keras.losses.categorical_crossentropy,\n",
    "              optimizer=keras.optimizers.Adadelta(),\n",
    "              metrics=['accuracy'])\n",
    "\n",
    "# You will see some warnings print out after this cell - you can ignore them"
   ]
  },
  {
   "cell_type": "code",
   "execution_count": 5,
   "metadata": {
    "ExecuteTime": {
     "end_time": "2019-08-08T20:01:51.354609Z",
     "start_time": "2019-08-08T20:01:51.347752Z"
    }
   },
   "outputs": [
    {
     "name": "stdout",
     "output_type": "stream",
     "text": [
      "_________________________________________________________________\n",
      "Layer (type)                 Output Shape              Param #   \n",
      "=================================================================\n",
      "conv2d_1 (Conv2D)            (None, 26, 26, 32)        320       \n",
      "_________________________________________________________________\n",
      "conv2d_2 (Conv2D)            (None, 24, 24, 64)        18496     \n",
      "_________________________________________________________________\n",
      "max_pooling2d_1 (MaxPooling2 (None, 12, 12, 64)        0         \n",
      "_________________________________________________________________\n",
      "dropout_1 (Dropout)          (None, 12, 12, 64)        0         \n",
      "_________________________________________________________________\n",
      "flatten_1 (Flatten)          (None, 9216)              0         \n",
      "_________________________________________________________________\n",
      "dense_1 (Dense)              (None, 128)               1179776   \n",
      "_________________________________________________________________\n",
      "dropout_2 (Dropout)          (None, 128)               0         \n",
      "_________________________________________________________________\n",
      "dense_2 (Dense)              (None, 10)                1290      \n",
      "=================================================================\n",
      "Total params: 1,199,882\n",
      "Trainable params: 1,199,882\n",
      "Non-trainable params: 0\n",
      "_________________________________________________________________\n"
     ]
    }
   ],
   "source": [
    "model.summary()"
   ]
  },
  {
   "cell_type": "markdown",
   "metadata": {},
   "source": [
    "# Training a model with Keras"
   ]
  },
  {
   "cell_type": "markdown",
   "metadata": {},
   "source": [
    "#### Train model on training set (short)"
   ]
  },
  {
   "cell_type": "code",
   "execution_count": 6,
   "metadata": {
    "ExecuteTime": {
     "end_time": "2019-08-08T20:03:55.522141Z",
     "start_time": "2019-08-08T20:01:51.356341Z"
    },
    "scrolled": true
   },
   "outputs": [
    {
     "name": "stderr",
     "output_type": "stream",
     "text": [
      "W0808 15:01:51.441982 140736984724416 deprecation.py:323] From /Users/mpitlyk/miniconda3/envs/dlkeras/lib/python3.6/site-packages/tensorflow/python/ops/math_grad.py:1250: add_dispatch_support.<locals>.wrapper (from tensorflow.python.ops.array_ops) is deprecated and will be removed in a future version.\n",
      "Instructions for updating:\n",
      "Use tf.where in 2.0, which has the same broadcast rule as np.where\n"
     ]
    },
    {
     "name": "stdout",
     "output_type": "stream",
     "text": [
      "Train on 17000 samples, validate on 3000 samples\n",
      "Epoch 1/8\n",
      "17000/17000 [==============================] - 17s 995us/step - loss: 0.5981 - acc: 0.8109 - val_loss: 0.1507 - val_acc: 0.9523\n",
      "Epoch 2/8\n",
      "17000/17000 [==============================] - 16s 917us/step - loss: 0.1886 - acc: 0.9451 - val_loss: 0.0874 - val_acc: 0.9730\n",
      "Epoch 3/8\n",
      "17000/17000 [==============================] - 16s 912us/step - loss: 0.1294 - acc: 0.9621 - val_loss: 0.0737 - val_acc: 0.9767\n",
      "Epoch 4/8\n",
      "17000/17000 [==============================] - 16s 935us/step - loss: 0.0959 - acc: 0.9721 - val_loss: 0.0589 - val_acc: 0.9807\n",
      "Epoch 5/8\n",
      "17000/17000 [==============================] - 15s 887us/step - loss: 0.0775 - acc: 0.9755 - val_loss: 0.0561 - val_acc: 0.9833\n",
      "Epoch 6/8\n",
      "17000/17000 [==============================] - 15s 881us/step - loss: 0.0659 - acc: 0.9800 - val_loss: 0.0476 - val_acc: 0.9850\n",
      "Epoch 7/8\n",
      "17000/17000 [==============================] - 15s 877us/step - loss: 0.0581 - acc: 0.9819 - val_loss: 0.0477 - val_acc: 0.9847\n",
      "Epoch 8/8\n",
      "17000/17000 [==============================] - 15s 875us/step - loss: 0.0474 - acc: 0.9855 - val_loss: 0.0470 - val_acc: 0.9860\n"
     ]
    }
   ],
   "source": [
    "# Train on subset of data (during talk)\n",
    "\n",
    "# the number of times to go through the entire dataset\n",
    "epochs = 8\n",
    "\n",
    "# the number of samples to use at each step\n",
    "batch_size = 128\n",
    "\n",
    "# Use a subset of training data\n",
    "num_samples = 20000\n",
    "\n",
    "history_short = model.fit(x_train[:num_samples], \n",
    "                    y_train[:num_samples],\n",
    "          batch_size=batch_size,\n",
    "          epochs=epochs,\n",
    "          verbose=1,\n",
    "          validation_split=.15)"
   ]
  },
  {
   "cell_type": "code",
   "execution_count": 7,
   "metadata": {
    "ExecuteTime": {
     "end_time": "2019-08-08T20:03:55.663691Z",
     "start_time": "2019-08-08T20:03:55.523775Z"
    }
   },
   "outputs": [],
   "source": [
    "# Save the model in case we want to load it later\n",
    "# https://keras.io/getting-started/faq/#how-can-i-save-a-keras-model\n",
    "model.save('mnist_short.h5')"
   ]
  },
  {
   "cell_type": "code",
   "execution_count": 8,
   "metadata": {
    "ExecuteTime": {
     "end_time": "2019-08-08T20:03:56.101723Z",
     "start_time": "2019-08-08T20:03:55.666610Z"
    }
   },
   "outputs": [
    {
     "data": {
      "image/png": "[encoded data removed]",
      "text/plain": [
       "<Figure size 432x288 with 1 Axes>"
      ]
     },
     "metadata": {
      "needs_background": "light"
     },
     "output_type": "display_data"
    },
    {
     "data": {
      "image/png": "[encoded data removed]",
      "text/plain": [
       "<Figure size 432x288 with 1 Axes>"
      ]
     },
     "metadata": {
      "needs_background": "light"
     },
     "output_type": "display_data"
    }
   ],
   "source": [
    "acc = history_short.history['acc']\n",
    "val_acc = history_short.history['val_acc']\n",
    "loss = history_short.history['loss']\n",
    "val_loss = history_short.history['val_loss']\n",
    "\n",
    "n_epochs = range(len(acc))\n",
    "\n",
    "plt.plot(n_epochs, acc, 'bo', label='Training acc')\n",
    "plt.plot(n_epochs, val_acc, 'b', label='Validation acc')\n",
    "plt.title('Training and validation accuracy')\n",
    "plt.legend()\n",
    "\n",
    "plt.figure()\n",
    "\n",
    "plt.plot(n_epochs, loss, 'bo', label='Training loss')\n",
    "plt.plot(n_epochs, val_loss, 'b', label='Validation loss')\n",
    "plt.title('Training and validation loss')\n",
    "plt.legend()\n",
    "\n",
    "plt.show()"
   ]
  },
  {
   "cell_type": "markdown",
   "metadata": {},
   "source": [
    "#### Evaluate shorter model"
   ]
  },
  {
   "cell_type": "code",
   "execution_count": 9,
   "metadata": {
    "ExecuteTime": {
     "end_time": "2019-08-08T20:03:57.725928Z",
     "start_time": "2019-08-08T20:03:56.103642Z"
    },
    "scrolled": false
   },
   "outputs": [
    {
     "name": "stdout",
     "output_type": "stream",
     "text": [
      "10000/10000 [==============================] - 2s 162us/step\n",
      "Test loss: 0.047877793723224024\n",
      "Test accuracy: 0.9844\n"
     ]
    }
   ],
   "source": [
    "score = model.evaluate(x_test, y_test, verbose=1)\n",
    "print('Test loss:', score[0])\n",
    "print('Test accuracy:', score[1])"
   ]
  },
  {
   "cell_type": "markdown",
   "metadata": {},
   "source": [
    "#### Train model on full set (before talk)"
   ]
  },
  {
   "cell_type": "code",
   "execution_count": 10,
   "metadata": {
    "ExecuteTime": {
     "end_time": "2019-08-08T20:03:57.926479Z",
     "start_time": "2019-08-08T20:03:57.727676Z"
    },
    "scrolled": true
   },
   "outputs": [],
   "source": [
    "# Load full model\n",
    "\n",
    "# Initalize model\n",
    "model_long = Sequential()\n",
    "\n",
    "# Add layers\n",
    "model_long.add(Conv2D(32, kernel_size=(3, 3),\n",
    "                 activation='relu',\n",
    "                 input_shape=input_shape))\n",
    "model_long.add(Conv2D(64, (3, 3), activation='relu'))\n",
    "model_long.add(MaxPooling2D(pool_size=(2, 2)))\n",
    "model_long.add(Dropout(0.25))\n",
    "model_long.add(Flatten())\n",
    "model_long.add(Dense(128, activation='relu'))\n",
    "model_long.add(Dropout(0.5))\n",
    "model_long.add(Dense(num_classes, activation='softmax'))\n",
    "\n",
    "# Compile model with loss funtion, optimizer, and metrics\n",
    "model_long.compile(loss=keras.losses.categorical_crossentropy,\n",
    "              optimizer=keras.optimizers.Adadelta(),\n",
    "              metrics=['accuracy'])\n"
   ]
  },
  {
   "cell_type": "code",
   "execution_count": 11,
   "metadata": {
    "ExecuteTime": {
     "end_time": "2019-08-08T20:18:26.891790Z",
     "start_time": "2019-08-08T20:03:57.928453Z"
    },
    "scrolled": true
   },
   "outputs": [
    {
     "name": "stdout",
     "output_type": "stream",
     "text": [
      "Train on 51000 samples, validate on 9000 samples\n",
      "Epoch 1/20\n",
      "51000/51000 [==============================] - 44s 865us/step - loss: 0.2816 - acc: 0.9110 - val_loss: 0.0682 - val_acc: 0.9808\n",
      "Epoch 2/20\n",
      "51000/51000 [==============================] - 42s 828us/step - loss: 0.0909 - acc: 0.9726 - val_loss: 0.0509 - val_acc: 0.9859\n",
      "Epoch 3/20\n",
      "51000/51000 [==============================] - 42s 828us/step - loss: 0.0709 - acc: 0.9782 - val_loss: 0.0406 - val_acc: 0.9880\n",
      "Epoch 4/20\n",
      "51000/51000 [==============================] - 42s 827us/step - loss: 0.0573 - acc: 0.9826 - val_loss: 0.0415 - val_acc: 0.9882\n",
      "Epoch 5/20\n",
      "51000/51000 [==============================] - 43s 838us/step - loss: 0.0494 - acc: 0.9844 - val_loss: 0.0462 - val_acc: 0.9862\n",
      "Epoch 6/20\n",
      "51000/51000 [==============================] - 42s 828us/step - loss: 0.0408 - acc: 0.9872 - val_loss: 0.0376 - val_acc: 0.9903\n",
      "Epoch 7/20\n",
      "51000/51000 [==============================] - 42s 826us/step - loss: 0.0389 - acc: 0.9881 - val_loss: 0.0385 - val_acc: 0.9893\n",
      "Epoch 8/20\n",
      "51000/51000 [==============================] - 42s 826us/step - loss: 0.0342 - acc: 0.9892 - val_loss: 0.0389 - val_acc: 0.9900\n",
      "Epoch 9/20\n",
      "51000/51000 [==============================] - 42s 827us/step - loss: 0.0307 - acc: 0.9898 - val_loss: 0.0331 - val_acc: 0.9903\n",
      "Epoch 10/20\n",
      "51000/51000 [==============================] - 42s 829us/step - loss: 0.0289 - acc: 0.9910 - val_loss: 0.0404 - val_acc: 0.9909\n",
      "Epoch 11/20\n",
      "51000/51000 [==============================] - 42s 830us/step - loss: 0.0278 - acc: 0.9918 - val_loss: 0.0339 - val_acc: 0.9912\n",
      "Epoch 12/20\n",
      "51000/51000 [==============================] - 44s 868us/step - loss: 0.0256 - acc: 0.9918 - val_loss: 0.0359 - val_acc: 0.9902\n",
      "Epoch 13/20\n",
      "51000/51000 [==============================] - 45s 889us/step - loss: 0.0250 - acc: 0.9915 - val_loss: 0.0339 - val_acc: 0.9909\n",
      "Epoch 14/20\n",
      "51000/51000 [==============================] - 47s 920us/step - loss: 0.0233 - acc: 0.9929 - val_loss: 0.0390 - val_acc: 0.9907\n",
      "Epoch 15/20\n",
      "51000/51000 [==============================] - 44s 864us/step - loss: 0.0208 - acc: 0.9937 - val_loss: 0.0375 - val_acc: 0.9912\n",
      "Epoch 16/20\n",
      "51000/51000 [==============================] - 44s 864us/step - loss: 0.0198 - acc: 0.9943 - val_loss: 0.0380 - val_acc: 0.9903\n",
      "Epoch 17/20\n",
      "51000/51000 [==============================] - 45s 879us/step - loss: 0.0206 - acc: 0.9935 - val_loss: 0.0341 - val_acc: 0.9911\n",
      "Epoch 18/20\n",
      "51000/51000 [==============================] - 44s 865us/step - loss: 0.0209 - acc: 0.9935 - val_loss: 0.0373 - val_acc: 0.9907\n",
      "Epoch 19/20\n",
      "51000/51000 [==============================] - 44s 870us/step - loss: 0.0199 - acc: 0.9938 - val_loss: 0.0389 - val_acc: 0.9907\n",
      "Epoch 20/20\n",
      "51000/51000 [==============================] - 44s 861us/step - loss: 0.0188 - acc: 0.9940 - val_loss: 0.0417 - val_acc: 0.9903\n"
     ]
    }
   ],
   "source": [
    "# Train on full dataset (before talk)\n",
    "\n",
    "# the number of times to go through the entire dataset\n",
    "epochs = 20\n",
    "\n",
    "# the number of samples to use at each step\n",
    "batch_size = 128\n",
    "\n",
    "history_long = model_long.fit(x_train, \n",
    "                    y_train,\n",
    "          batch_size=batch_size,\n",
    "          epochs=epochs,\n",
    "          verbose=1,\n",
    "          validation_split=.15)"
   ]
  },
  {
   "cell_type": "code",
   "execution_count": 12,
   "metadata": {
    "ExecuteTime": {
     "end_time": "2019-08-08T20:18:27.081739Z",
     "start_time": "2019-08-08T20:18:26.893396Z"
    }
   },
   "outputs": [],
   "source": [
    "# Save model\n",
    "model_long.save('mnist_20_epochs.h5')"
   ]
  },
  {
   "cell_type": "code",
   "execution_count": 13,
   "metadata": {
    "ExecuteTime": {
     "end_time": "2019-08-08T20:18:27.530553Z",
     "start_time": "2019-08-08T20:18:27.083738Z"
    }
   },
   "outputs": [
    {
     "data": {
      "image/png": "[encoded data removed]",
      "text/plain": [
       "<Figure size 432x288 with 1 Axes>"
      ]
     },
     "metadata": {
      "needs_background": "light"
     },
     "output_type": "display_data"
    },
    {
     "data": {
      "image/png": "[encoded data removed]",
      "text/plain": [
       "<Figure size 432x288 with 1 Axes>"
      ]
     },
     "metadata": {
      "needs_background": "light"
     },
     "output_type": "display_data"
    }
   ],
   "source": [
    "acc = history_long.history['acc']\n",
    "val_acc = history_long.history['val_acc']\n",
    "loss = history_long.history['loss']\n",
    "val_loss = history_long.history['val_loss']\n",
    "\n",
    "n_epochs = range(len(acc))\n",
    "\n",
    "plt.plot(history_long.epoch, acc, 'bo', label='Training acc')\n",
    "plt.plot(history_long.epoch, val_acc, 'b', label='Validation acc')\n",
    "plt.title('Training and validation accuracy')\n",
    "plt.xticks(history_long.epoch)\n",
    "plt.legend()\n",
    "\n",
    "plt.figure()\n",
    "\n",
    "plt.plot(history_long.epoch, loss, 'bo', label='Training loss')\n",
    "plt.plot(history_long.epoch, val_loss, 'b', label='Validation loss')\n",
    "plt.title('Training and validation loss')\n",
    "plt.xticks(history_long.epoch)\n",
    "plt.legend()\n",
    "\n",
    "plt.show()"
   ]
  },
  {
   "cell_type": "raw",
   "metadata": {},
   "source": [
    "# Load model if we are reopening the notebook and don't want to re-train it to make predictions\n",
    "model_long = load_model('mnist_20_epochs.h5')"
   ]
  },
  {
   "cell_type": "code",
   "execution_count": 14,
   "metadata": {
    "ExecuteTime": {
     "end_time": "2019-08-08T20:18:30.172888Z",
     "start_time": "2019-08-08T20:18:27.532115Z"
    }
   },
   "outputs": [
    {
     "name": "stdout",
     "output_type": "stream",
     "text": [
      "10000/10000 [==============================] - 3s 264us/step\n",
      "Test loss: 0.032882582351473226\n",
      "Test accuracy: 0.9903\n"
     ]
    }
   ],
   "source": [
    "score = model_long.evaluate(x_test, y_test, verbose=1)\n",
    "print('Test loss:', score[0])\n",
    "print('Test accuracy:', score[1])"
   ]
  },
  {
   "cell_type": "markdown",
   "metadata": {},
   "source": [
    "Accuracy is not the only metric to look at to evaulate a classification problem. Others include precision, recall, and the AUC."
   ]
  },
  {
   "cell_type": "markdown",
   "metadata": {},
   "source": [
    "#### View some predictions"
   ]
  },
  {
   "cell_type": "code",
   "execution_count": 15,
   "metadata": {
    "ExecuteTime": {
     "end_time": "2019-08-08T20:18:32.808926Z",
     "start_time": "2019-08-08T20:18:30.174282Z"
    }
   },
   "outputs": [
    {
     "name": "stdout",
     "output_type": "stream",
     "text": [
      "Total number of correct: 9903\n",
      "Total number of errors: 97\n"
     ]
    }
   ],
   "source": [
    "# Get real class for each image\n",
    "y_test_classes = np.array([np.argmax(y) for y in y_test])\n",
    "\n",
    "# Use model to predict class on each image in test set\n",
    "y_pred = model_long.predict_classes(x_test)\n",
    "\n",
    "# Get indices of correct and incorrect images\n",
    "correct = (y_pred == y_test_classes).nonzero()[0]\n",
    "errors = (y_pred != y_test_classes).nonzero()[0]\n",
    "\n",
    "# Print totals\n",
    "print(f'Total number of correct: {len(correct)}')\n",
    "print(f'Total number of errors: {len(errors)}')"
   ]
  },
  {
   "cell_type": "markdown",
   "metadata": {},
   "source": [
    "#### Correct"
   ]
  },
  {
   "cell_type": "code",
   "execution_count": 16,
   "metadata": {
    "ExecuteTime": {
     "end_time": "2019-08-08T20:18:33.665116Z",
     "start_time": "2019-08-08T20:18:32.810376Z"
    }
   },
   "outputs": [
    {
     "data": {
      "image/png": "[encoded data removed]",
      "text/plain": [
       "<Figure size 1080x432 with 10 Axes>"
      ]
     },
     "metadata": {
      "needs_background": "light"
     },
     "output_type": "display_data"
    }
   ],
   "source": [
    "inds = random.sample(list(correct), 10)\n",
    "\n",
    "fig, ax = plt.subplots(2, 5, figsize=(15,6))\n",
    "\n",
    "for i, ind in enumerate(inds):\n",
    "    plt.subplot(2, 5, i+1)\n",
    "    plt.imshow(x_test[ind].reshape(img_rows, img_cols), cmap=cm.gray)\n",
    "    plt.axis('off')\n",
    "    plt.title(f'Predicted: {y_pred[ind]}. Actual: {y_test_classes[ind]}', size=17)\n",
    "\n",
    "plt.tight_layout()"
   ]
  },
  {
   "cell_type": "markdown",
   "metadata": {},
   "source": [
    "#### Incorrect"
   ]
  },
  {
   "cell_type": "code",
   "execution_count": 17,
   "metadata": {
    "ExecuteTime": {
     "end_time": "2019-08-08T20:18:34.362660Z",
     "start_time": "2019-08-08T20:18:33.666805Z"
    }
   },
   "outputs": [
    {
     "data": {
      "image/png": "[encoded data removed]",
      "text/plain": [
       "<Figure size 1080x432 with 10 Axes>"
      ]
     },
     "metadata": {
      "needs_background": "light"
     },
     "output_type": "display_data"
    }
   ],
   "source": [
    "inds = random.sample(list(errors), 10)\n",
    "\n",
    "fig, ax = plt.subplots(2, 5, figsize=(15,6))\n",
    "\n",
    "for i, ind in enumerate(inds):\n",
    "    plt.subplot(2, 5, i+1)\n",
    "    plt.imshow(x_test[ind].reshape(img_rows, img_cols), cmap=cm.gray)\n",
    "    plt.axis('off')\n",
    "    plt.title(f'Predicted: {y_pred[ind]}. Actual: {y_test_classes[ind]}', size=17)\n",
    "\n",
    "plt.tight_layout()"
   ]
  },
  {
   "cell_type": "markdown",
   "metadata": {},
   "source": [
    "# How does dataset size affect accuracy?"
   ]
  },
  {
   "cell_type": "code",
   "execution_count": 18,
   "metadata": {
    "ExecuteTime": {
     "end_time": "2019-08-08T20:18:34.370929Z",
     "start_time": "2019-08-08T20:18:34.364218Z"
    }
   },
   "outputs": [],
   "source": [
    "def build_model():\n",
    "    \"\"\"Convenience function for building the model.\"\"\"\n",
    "    model = Sequential()\n",
    "    model.add(Conv2D(32, kernel_size=(3, 3),\n",
    "                     activation='relu',\n",
    "                     input_shape=input_shape))\n",
    "    model.add(Conv2D(64, (3, 3), activation='relu'))\n",
    "    model.add(MaxPooling2D(pool_size=(2, 2)))\n",
    "    model.add(Dropout(0.25))\n",
    "    model.add(Flatten())\n",
    "    model.add(Dense(128, activation='relu'))\n",
    "    model.add(Dropout(0.5))\n",
    "    model.add(Dense(num_classes, activation='softmax'))\n",
    "\n",
    "    model.compile(loss=keras.losses.categorical_crossentropy,\n",
    "                  optimizer=keras.optimizers.Adadelta(),\n",
    "              metrics=['accuracy'])\n",
    "    return model"
   ]
  },
  {
   "cell_type": "code",
   "execution_count": 19,
   "metadata": {
    "ExecuteTime": {
     "end_time": "2019-08-08T20:18:34.375235Z",
     "start_time": "2019-08-08T20:18:34.372652Z"
    }
   },
   "outputs": [],
   "source": [
    "# Pick a number of training set sizes to train with\n",
    "training_set_sizes = [10000, 20000, 30000, 40000, 50000, 60000]"
   ]
  },
  {
   "cell_type": "code",
   "execution_count": 20,
   "metadata": {
    "ExecuteTime": {
     "end_time": "2019-08-08T20:43:20.497196Z",
     "start_time": "2019-08-08T20:18:34.376899Z"
    },
    "scrolled": true
   },
   "outputs": [
    {
     "name": "stdout",
     "output_type": "stream",
     "text": [
      "Number of samples: 10000\n",
      "Epoch 1/8\n",
      "10000/10000 [==============================] - 9s 904us/step - loss: 0.7445 - acc: 0.7677\n",
      "Epoch 2/8\n",
      "10000/10000 [==============================] - 8s 831us/step - loss: 0.2370 - acc: 0.9320\n",
      "Epoch 3/8\n",
      "10000/10000 [==============================] - 8s 834us/step - loss: 0.1572 - acc: 0.9527\n",
      "Epoch 4/8\n",
      "10000/10000 [==============================] - 8s 832us/step - loss: 0.1257 - acc: 0.9632\n",
      "Epoch 5/8\n",
      "10000/10000 [==============================] - 8s 832us/step - loss: 0.0985 - acc: 0.9711\n",
      "Epoch 6/8\n",
      "10000/10000 [==============================] - 8s 837us/step - loss: 0.0832 - acc: 0.9738\n",
      "Epoch 7/8\n",
      "10000/10000 [==============================] - 8s 838us/step - loss: 0.0722 - acc: 0.9771\n",
      "Epoch 8/8\n",
      "10000/10000 [==============================] - 8s 830us/step - loss: 0.0615 - acc: 0.9811\n",
      "Test loss: 0.08184032005313784\n",
      "Test accuracy: 0.9738\n",
      "Number of samples: 20000\n",
      "Epoch 1/8\n",
      "20000/20000 [==============================] - 17s 866us/step - loss: 0.5135 - acc: 0.8388\n",
      "Epoch 2/8\n",
      "20000/20000 [==============================] - 17s 832us/step - loss: 0.1615 - acc: 0.9512\n",
      "Epoch 3/8\n",
      "20000/20000 [==============================] - 17s 833us/step - loss: 0.1129 - acc: 0.9660\n",
      "Epoch 4/8\n",
      "20000/20000 [==============================] - 17s 832us/step - loss: 0.0934 - acc: 0.9729\n",
      "Epoch 5/8\n",
      "20000/20000 [==============================] - 17s 831us/step - loss: 0.0726 - acc: 0.9784\n",
      "Epoch 6/8\n",
      "20000/20000 [==============================] - 17s 831us/step - loss: 0.0615 - acc: 0.9804\n",
      "Epoch 7/8\n",
      "20000/20000 [==============================] - 17s 830us/step - loss: 0.0554 - acc: 0.9833\n",
      "Epoch 8/8\n",
      "20000/20000 [==============================] - 17s 833us/step - loss: 0.0513 - acc: 0.9849\n",
      "Test loss: 0.04504417661105472\n",
      "Test accuracy: 0.9852\n",
      "Number of samples: 30000\n",
      "Epoch 1/8\n",
      "30000/30000 [==============================] - 27s 883us/step - loss: 0.3844 - acc: 0.8792\n",
      "Epoch 2/8\n",
      "30000/30000 [==============================] - 25s 833us/step - loss: 0.1199 - acc: 0.9639\n",
      "Epoch 3/8\n",
      "30000/30000 [==============================] - 25s 831us/step - loss: 0.0875 - acc: 0.9733\n",
      "Epoch 4/8\n",
      "30000/30000 [==============================] - 25s 830us/step - loss: 0.0697 - acc: 0.9793\n",
      "Epoch 5/8\n",
      "30000/30000 [==============================] - 25s 828us/step - loss: 0.0586 - acc: 0.9831\n",
      "Epoch 6/8\n",
      "30000/30000 [==============================] - 24s 808us/step - loss: 0.0508 - acc: 0.9840\n",
      "Epoch 7/8\n",
      "30000/30000 [==============================] - 24s 789us/step - loss: 0.0434 - acc: 0.9861\n",
      "Epoch 8/8\n",
      "30000/30000 [==============================] - 24s 790us/step - loss: 0.0407 - acc: 0.9873\n",
      "Test loss: 0.034323484129764985\n",
      "Test accuracy: 0.9887\n",
      "Number of samples: 40000\n",
      "Epoch 1/8\n",
      "40000/40000 [==============================] - 32s 807us/step - loss: 0.3309 - acc: 0.8973\n",
      "Epoch 2/8\n",
      "40000/40000 [==============================] - 33s 820us/step - loss: 0.1088 - acc: 0.9679\n",
      "Epoch 3/8\n",
      "40000/40000 [==============================] - 33s 814us/step - loss: 0.0775 - acc: 0.9764\n",
      "Epoch 4/8\n",
      "40000/40000 [==============================] - 33s 828us/step - loss: 0.0629 - acc: 0.9799\n",
      "Epoch 5/8\n",
      "40000/40000 [==============================] - 33s 817us/step - loss: 0.0561 - acc: 0.9832\n",
      "Epoch 6/8\n",
      "40000/40000 [==============================] - 36s 912us/step - loss: 0.0460 - acc: 0.9862\n",
      "Epoch 7/8\n",
      "40000/40000 [==============================] - 38s 955us/step - loss: 0.0421 - acc: 0.9866\n",
      "Epoch 8/8\n",
      "40000/40000 [==============================] - 36s 902us/step - loss: 0.0358 - acc: 0.9884\n",
      "Test loss: 0.032548785300418964\n",
      "Test accuracy: 0.9893\n",
      "Number of samples: 50000\n",
      "Epoch 1/8\n",
      "50000/50000 [==============================] - 47s 931us/step - loss: 0.3038 - acc: 0.9061\n",
      "Epoch 2/8\n",
      "50000/50000 [==============================] - 44s 881us/step - loss: 0.1052 - acc: 0.9678\n",
      "Epoch 3/8\n",
      "50000/50000 [==============================] - 44s 888us/step - loss: 0.0750 - acc: 0.9774\n",
      "Epoch 4/8\n",
      "50000/50000 [==============================] - 42s 840us/step - loss: 0.0631 - acc: 0.9811\n",
      "Epoch 5/8\n",
      "50000/50000 [==============================] - 42s 837us/step - loss: 0.0512 - acc: 0.9848\n",
      "Epoch 6/8\n",
      "50000/50000 [==============================] - 42s 832us/step - loss: 0.0453 - acc: 0.9861\n",
      "Epoch 7/8\n",
      "50000/50000 [==============================] - 41s 827us/step - loss: 0.0400 - acc: 0.9878\n",
      "Epoch 8/8\n",
      "50000/50000 [==============================] - 45s 908us/step - loss: 0.0366 - acc: 0.9887\n",
      "Test loss: 0.030136966860484064\n",
      "Test accuracy: 0.9902\n",
      "Number of samples: 60000\n",
      "Epoch 1/8\n",
      "60000/60000 [==============================] - 54s 901us/step - loss: 0.2664 - acc: 0.9180\n",
      "Epoch 2/8\n",
      "60000/60000 [==============================] - 54s 901us/step - loss: 0.0894 - acc: 0.9738\n",
      "Epoch 3/8\n",
      "60000/60000 [==============================] - 54s 906us/step - loss: 0.0688 - acc: 0.9796\n",
      "Epoch 4/8\n",
      "60000/60000 [==============================] - 55s 909us/step - loss: 0.0551 - acc: 0.9835\n",
      "Epoch 5/8\n",
      "60000/60000 [==============================] - 54s 893us/step - loss: 0.0488 - acc: 0.9853\n",
      "Epoch 6/8\n",
      "60000/60000 [==============================] - 59s 979us/step - loss: 0.0422 - acc: 0.9865\n",
      "Epoch 7/8\n",
      "60000/60000 [==============================] - 59s 983us/step - loss: 0.0376 - acc: 0.9888\n",
      "Epoch 8/8\n",
      "60000/60000 [==============================] - 58s 974us/step - loss: 0.0337 - acc: 0.9900\n",
      "Test loss: 0.03412967410063993\n",
      "Test accuracy: 0.9897\n"
     ]
    }
   ],
   "source": [
    "# Loop through the list of training set sizes and train a model on each set.\n",
    "\n",
    "models = []\n",
    "_num_epochs = 8\n",
    "_batch_size = 128\n",
    "\n",
    "for _num_samples in training_set_sizes:\n",
    "    # Train on subset of data\n",
    "    print(f'Number of samples: {_num_samples}')\n",
    "    _model = build_model()\n",
    "    _history = _model.fit(x_train[:_num_samples], \n",
    "                          y_train[:_num_samples],\n",
    "              batch_size=_batch_size,\n",
    "              epochs=_num_epochs,\n",
    "              verbose=1)\n",
    "    # Evaluate model on test set\n",
    "    _score = _model.evaluate(x_test, y_test, verbose=0)\n",
    "    print('Test loss:', _score[0])\n",
    "    print('Test accuracy:', _score[1])\n",
    "    # Store the training set size, model, score, and metrics history\n",
    "    models.append((_num_samples, _model, _score, _history))"
   ]
  },
  {
   "cell_type": "code",
   "execution_count": 21,
   "metadata": {
    "ExecuteTime": {
     "end_time": "2019-08-08T20:43:20.912801Z",
     "start_time": "2019-08-08T20:43:20.498925Z"
    }
   },
   "outputs": [
    {
     "data": {
      "text/plain": [
       "Text(0.5, 0, 'Samples in training set')"
      ]
     },
     "execution_count": 21,
     "metadata": {},
     "output_type": "execute_result"
    },
    {
     "data": {
      "image/png": "[encoded data removed]",
      "text/plain": [
       "<Figure size 1080x720 with 1 Axes>"
      ]
     },
     "metadata": {
      "needs_background": "light"
     },
     "output_type": "display_data"
    }
   ],
   "source": [
    "# Plot Dataset Size vs Accuracy\n",
    "\n",
    "plt.figure(figsize=(15,10))\n",
    "plt.plot(training_set_sizes, [tup[2][1] for tup in models], 'bo', markersize=15)\n",
    "plt.title('Dataset size vs Accuracy', size=20)\n",
    "plt.ylabel('Accuracy %', size=20)\n",
    "plt.xlabel('Samples in training set', size=20)"
   ]
  },
  {
   "cell_type": "markdown",
   "metadata": {},
   "source": [
    "![](https://miro.medium.com/max/1000/0*hY-PMxeQFvBuwbTj)"
   ]
  }
 ],
 "metadata": {
  "kernelspec": {
   "display_name": "Python 3",
   "language": "python",
   "name": "python3"
  },
  "language_info": {
   "codemirror_mode": {
    "name": "ipython",
    "version": 3
   },
   "file_extension": ".py",
   "mimetype": "text/x-python",
   "name": "python",
   "nbconvert_exporter": "python",
   "pygments_lexer": "ipython3",
   "version": "3.6.9"
  },
  "toc": {
   "base_numbering": 1,
   "nav_menu": {},
   "number_sections": true,
   "sideBar": true,
   "skip_h1_title": false,
   "title_cell": "Table of Contents",
   "title_sidebar": "Contents",
   "toc_cell": false,
   "toc_position": {},
   "toc_section_display": true,
   "toc_window_display": false
  },
  "varInspector": {
   "cols": {
    "lenName": 16,
    "lenType": 16,
    "lenVar": 40
   },
   "kernels_config": {
    "python": {
     "delete_cmd_postfix": "",
     "delete_cmd_prefix": "del ",
     "library": "var_list.py",
     "varRefreshCmd": "print(var_dic_list())"
    },
    "r": {
     "delete_cmd_postfix": ") ",
     "delete_cmd_prefix": "rm(",
     "library": "var_list.r",
     "varRefreshCmd": "cat(var_dic_list()) "
    }
   },
   "types_to_exclude": [
    "module",
    "function",
    "builtin_function_or_method",
    "instance",
    "_Feature"
   ],
   "window_display": false
  }
 },
 "nbformat": 4,
 "nbformat_minor": 2
}
